{
  "nbformat": 4,
  "nbformat_minor": 0,
  "metadata": {
    "colab": {
      "name": "Solution For 2 layers decoder.ipynb",
      "provenance": [],
      "authorship_tag": "ABX9TyMzsZRliJFmwSaYXfHhERx4",
      "include_colab_link": true
    },
    "kernelspec": {
      "name": "python3",
      "display_name": "Python 3"
    },
    "language_info": {
      "name": "python"
    }
  },
  "cells": [
    {
      "cell_type": "markdown",
      "metadata": {
        "id": "view-in-github",
        "colab_type": "text"
      },
      "source": [
        "<a href=\"https://colab.research.google.com/github/HeleneMaxcici/Autoencoder-Study/blob/master/Solution_For_2_layers_decoder.ipynb\" target=\"_parent\"><img src=\"https://colab.research.google.com/assets/colab-badge.svg\" alt=\"Open In Colab\"/></a>"
      ]
    },
    {
      "cell_type": "code",
      "execution_count": 1,
      "metadata": {
        "id": "C-89VoGsy0Ym"
      },
      "outputs": [],
      "source": [
        "import numpy as np\n",
        "\n",
        "import matplotlib.pyplot as plt\n",
        "\n",
        "import torch\n",
        "import torch.nn as nn\n",
        "from torch.nn.parameter import Parameter\n",
        "import torch.nn.functional as F\n",
        "import torch.optim as optim\n",
        "from torch.optim import Optimizer"
      ]
    },
    {
      "cell_type": "markdown",
      "source": [
        "## Solution\n",
        "\n",
        "In our previous works we only found a necessary condition on the decoder: the decoder should have at least two layers, each of size $n$, with ReLU activations and a required bias on the first layer. With $n$ the dimension of the data.\n",
        "\n",
        "But we didn't prove that a solution where the encoder is linear exists theoretically. Instead, we tested it practically by fixing the encoder to be linear and we training the decoder for a long time. Although we could achieve a satisfyable reconstruction close to the input signals, the reconstruction wasn't perfect. It is normal since we're finding the solution via gradient descent.\n",
        "\n",
        "Our theoretical resolution to find the necessary condition suggests that there's no unique solution. Using the equations of our network, we could easily find a solution.\n",
        "\n",
        " "
      ],
      "metadata": {
        "id": "7G2Php9vznm9"
      }
    },
    {
      "cell_type": "code",
      "source": [
        "class AutoEncoder(nn.Module):\n",
        "\n",
        "  def __init__(self, encoder, decoder):\n",
        "    super(AutoEncoder, self).__init__()\n",
        "\n",
        "    self.encoder = encoder\n",
        "    self.decoder = decoder\n",
        "    \n",
        "    self.track_grads = False\n",
        "\n",
        "  def forward(self, X):\n",
        "    \n",
        "    self.code = self.encoder(X)\n",
        "    \n",
        "    self.y = self.decoder(self.code)\n",
        "\n",
        "    return self.y"
      ],
      "metadata": {
        "id": "QEyBK0MlzEu9"
      },
      "execution_count": 2,
      "outputs": []
    },
    {
      "cell_type": "code",
      "source": [
        "# Solution \n",
        "n = 128\n",
        "\n",
        "#Layer 3\n",
        "U3 = torch.triu(torch.ones(n, n)) - 0.2*torch.tril(torch.ones(n,n),diagonal=-1)\n",
        "\n",
        "#Layer 2\n",
        "W2 = 0.1*torch.ones(n,1,dtype=torch.float)\n",
        "b2 = -0.1*torch.unsqueeze(torch.arange(0,n),0)\n",
        "\n",
        "A2 = 0.1*(torch.triu(torch.ones(n, n))@torch.triu(torch.ones(n, n)).rot90())*(torch.triu(torch.ones(n, n))).rot90()\n",
        "print(\"A2\")\n",
        "print(A2)\n",
        "\n",
        "#Using equation 5\n",
        "W3 = (torch.linalg.inv(A2)@U3).T\n",
        "print(\"W3\")\n",
        "print(W3)\n",
        "print(\"Determinant: \",np.linalg.det(W3))\n",
        "\n",
        "plt.imshow(W3)\n",
        "plt.colorbar()"
      ],
      "metadata": {
        "colab": {
          "base_uri": "https://localhost:8080/",
          "height": 685
        },
        "id": "WH1ksmgT2vOt",
        "outputId": "408b7650-b937-4e85-9e3a-f9bd0593dc0a"
      },
      "execution_count": 35,
      "outputs": [
        {
          "output_type": "stream",
          "name": "stdout",
          "text": [
            "A2\n",
            "tensor([[12.8000, 12.7000, 12.6000,  ...,  0.3000,  0.2000,  0.1000],\n",
            "        [12.7000, 12.6000, 12.5000,  ...,  0.2000,  0.1000,  0.0000],\n",
            "        [12.6000, 12.5000, 12.4000,  ...,  0.1000,  0.0000,  0.0000],\n",
            "        ...,\n",
            "        [ 0.3000,  0.2000,  0.1000,  ...,  0.0000,  0.0000,  0.0000],\n",
            "        [ 0.2000,  0.1000,  0.0000,  ...,  0.0000,  0.0000,  0.0000],\n",
            "        [ 0.1000,  0.0000,  0.0000,  ...,  0.0000,  0.0000,  0.0000]])\n",
            "W3\n",
            "tensor([[-2.0000e+00,  2.0000e+00,  1.1325e-07,  ...,  3.2813e-05,\n",
            "         -1.7368e-05,  1.2000e+01],\n",
            "        [-2.0000e+00,  2.0000e+00,  1.1325e-07,  ...,  3.2336e-05,\n",
            "          1.2000e+01, -1.2000e+01],\n",
            "        [-2.0000e+00,  2.0000e+00,  1.1325e-07,  ...,  1.2000e+01,\n",
            "         -1.2000e+01,  4.8969e-05],\n",
            "        ...,\n",
            "        [-2.0000e+00,  2.0000e+00,  1.2000e+01,  ...,  1.4877e-04,\n",
            "          9.1553e-05, -2.1172e-04],\n",
            "        [-2.0000e+00,  1.4000e+01, -1.2000e+01,  ...,  1.4877e-04,\n",
            "         -2.5177e-04,  2.4605e-04],\n",
            "        [ 1.0000e+01, -1.0000e+01, -1.9073e-06,  ..., -1.7166e-04,\n",
            "          9.1553e-05, -9.7275e-05]])\n",
            "Determinant:  inf\n"
          ]
        },
        {
          "output_type": "execute_result",
          "data": {
            "text/plain": [
              "<matplotlib.colorbar.Colorbar at 0x7f237fbd6110>"
            ]
          },
          "metadata": {},
          "execution_count": 35
        },
        {
          "output_type": "display_data",
          "data": {
            "image/png": "[encoded data removed]",
            "text/plain": [
              "<Figure size 432x288 with 2 Axes>"
            ]
          },
          "metadata": {
            "needs_background": "light"
          }
        }
      ]
    },
    {
      "cell_type": "code",
      "source": [
        "class Encoder(nn.Module):\n",
        "# This is a one layer encoder \n",
        "   \n",
        "  def __init__(self, n_in, n_code):\n",
        "    super(Encoder, self).__init__()\n",
        "    \n",
        "    self.W1 = Parameter(torch.ones(1,n, dtype= torch.float), requires_grad = True)\n",
        "    \n",
        "    self.b1 = Parameter(torch.tensor([[0]], dtype= torch.float), requires_grad = True)\n",
        "    \n",
        "  def forward(self, X):\n",
        "    \n",
        "    self.code = F.linear(X, self.W1, self.b1)\n",
        "    \n",
        "    return self.code"
      ],
      "metadata": {
        "id": "a52K6KBuzd_-"
      },
      "execution_count": 36,
      "outputs": []
    },
    {
      "cell_type": "code",
      "source": [
        "class Decoder(nn.Module):\n",
        "# This is a two layers decoder \n",
        "   \n",
        "  def __init__(self, n_code, n_h1, n_out):\n",
        "    super(Decoder, self).__init__()\n",
        "    \n",
        "    self.W2 = Parameter(W2, requires_grad = True)\n",
        "    \n",
        "    self.b2 = Parameter(b2,  requires_grad = True)\n",
        "    \n",
        "    self.W3 = Parameter(W3, requires_grad = True)\n",
        "    \n",
        "  def forward(self, code):\n",
        "    \n",
        "    self.a2 = F.relu(F.linear(code, self.W2, self.b2))\n",
        "    self.y = F.relu(F.linear(self.a2, self.W3))\n",
        "    \n",
        "    return self.y"
      ],
      "metadata": {
        "id": "DTryBBi-zjdf"
      },
      "execution_count": 37,
      "outputs": []
    },
    {
      "cell_type": "code",
      "source": [
        "encoder = Encoder(128,1)\n",
        "decoder = Decoder(1, 128, 128)\n",
        "\n",
        "ae = AutoEncoder(encoder, decoder)"
      ],
      "metadata": {
        "id": "0MI6NV9F4LKP"
      },
      "execution_count": 38,
      "outputs": []
    },
    {
      "cell_type": "code",
      "source": [
        "X_test = torch.triu(torch.ones(n, n))\n",
        "print(X_test)"
      ],
      "metadata": {
        "colab": {
          "base_uri": "https://localhost:8080/"
        },
        "id": "y-SreKue3olB",
        "outputId": "596e3157-04e3-4f0d-9c3e-8a902b42fcc0"
      },
      "execution_count": 39,
      "outputs": [
        {
          "output_type": "stream",
          "name": "stdout",
          "text": [
            "tensor([[1., 1., 1.,  ..., 1., 1., 1.],\n",
            "        [0., 1., 1.,  ..., 1., 1., 1.],\n",
            "        [0., 0., 1.,  ..., 1., 1., 1.],\n",
            "        ...,\n",
            "        [0., 0., 0.,  ..., 1., 1., 1.],\n",
            "        [0., 0., 0.,  ..., 0., 1., 1.],\n",
            "        [0., 0., 0.,  ..., 0., 0., 1.]])\n"
          ]
        }
      ]
    },
    {
      "cell_type": "code",
      "source": [
        "fig = plt.figure(figsize = (15,5))\n",
        "\n",
        "axes = fig.subplots(2,2)\n",
        "\n",
        "for n in np.arange(0, 128,8):\n",
        "  axes[0,0].plot(X_test[n,:], label = n)\n",
        "  axes[0,1].plot(ae.forward(X_test[[n],:]).detach().numpy().ravel(), label = n)\n",
        "\n",
        "z_test = ae.encoder(X_test)\n",
        "axes[1,0].plot(np.arange(X_test.shape[0]),z_test[:,0].detach().numpy())\n",
        "\n",
        "axes[0,0].set_title(\"True\")\n",
        "\n",
        "axes[0,1].set_title(\"Predicted\")\n"
      ],
      "metadata": {
        "colab": {
          "base_uri": "https://localhost:8080/",
          "height": 353
        },
        "id": "1Iic3Ebp3554",
        "outputId": "43884623-426a-4517-d8dd-7d469bfbf8e0"
      },
      "execution_count": 40,
      "outputs": [
        {
          "output_type": "execute_result",
          "data": {
            "text/plain": [
              "Text(0.5, 1.0, 'Predicted')"
            ]
          },
          "metadata": {},
          "execution_count": 40
        },
        {
          "output_type": "display_data",
          "data": {
            "image/png": "[encoded data removed]",
            "text/plain": [
              "<Figure size 1080x360 with 4 Axes>"
            ]
          },
          "metadata": {
            "needs_background": "light"
          }
        }
      ]
    },
    {
      "cell_type": "code",
      "source": [
        "X_pred = ae.forward(X_test)\n",
        "print(X_pred)\n",
        "plt.imshow((X_pred!=X_test).detach().numpy())"
      ],
      "metadata": {
        "id": "ZnsYKjC436vi",
        "colab": {
          "base_uri": "https://localhost:8080/",
          "height": 424
        },
        "outputId": "efe935b0-cb05-44f8-a232-da632d4b6c18"
      },
      "execution_count": 41,
      "outputs": [
        {
          "output_type": "stream",
          "name": "stdout",
          "text": [
            "tensor([[1.0000, 1.0000, 1.0000,  ..., 1.0001, 1.0002, 1.0001],\n",
            "        [0.0000, 1.0000, 1.0000,  ..., 1.0001, 1.0002, 1.0002],\n",
            "        [0.0000, 0.0000, 1.0000,  ..., 1.0001, 1.0002, 1.0001],\n",
            "        ...,\n",
            "        [0.0000, 0.0000, 0.0000,  ..., 1.0000, 1.0000, 1.0000],\n",
            "        [0.0000, 0.0000, 0.0000,  ..., 0.0000, 1.0000, 1.0000],\n",
            "        [0.0000, 0.0000, 0.0000,  ..., 0.0000, 0.0000, 1.0000]],\n",
            "       grad_fn=<ReluBackward0>)\n"
          ]
        },
        {
          "output_type": "execute_result",
          "data": {
            "text/plain": [
              "<matplotlib.image.AxesImage at 0x7f237f90ef10>"
            ]
          },
          "metadata": {},
          "execution_count": 41
        },
        {
          "output_type": "display_data",
          "data": {
            "image/png": "[encoded data removed]",
            "text/plain": [
              "<Figure size 432x288 with 1 Axes>"
            ]
          },
          "metadata": {
            "needs_background": "light"
          }
        }
      ]
    },
    {
      "cell_type": "code",
      "source": [
        "print(((X_test-X_pred)**2).sum())"
      ],
      "metadata": {
        "colab": {
          "base_uri": "https://localhost:8080/"
        },
        "id": "e2wxfX_g6Ftb",
        "outputId": "6a57684d-6955-4661-c904-16219ca9c8dc"
      },
      "execution_count": 42,
      "outputs": [
        {
          "output_type": "stream",
          "name": "stdout",
          "text": [
            "tensor(2.1592e-05, grad_fn=<SumBackward0>)\n"
          ]
        }
      ]
    },
    {
      "cell_type": "code",
      "source": [
        ""
      ],
      "metadata": {
        "id": "ZTP08smo8PVW"
      },
      "execution_count": null,
      "outputs": []
    }
  ]
}